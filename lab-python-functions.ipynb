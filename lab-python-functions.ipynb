{
 "cells": [
  {
   "cell_type": "markdown",
   "id": "25d7736c-ba17-4aff-b6bb-66eba20fbf4e",
   "metadata": {},
   "source": [
    "# Lab | Functions"
   ]
  },
  {
   "cell_type": "markdown",
   "id": "6f8e446f-16b4-4e21-92e7-9d3d1eb551b6",
   "metadata": {},
   "source": [
    "Objective: Practice how to define and call functions, pass arguments, return values, and handle scope. "
   ]
  },
  {
   "cell_type": "markdown",
   "id": "e253e768-aed8-4791-a800-87add1204afa",
   "metadata": {},
   "source": [
    "## Challenge 1: completing functions based on docstring\n",
    "\n",
    "Complete the functions below according to the docstring, and test them by calling them to make sure they are well implemented."
   ]
  },
  {
   "cell_type": "code",
   "execution_count": 1,
   "id": "df908bed-acc6-4b67-b33a-f3b1c564a49f",
   "metadata": {},
   "outputs": [
    {
     "name": "stdout",
     "output_type": "stream",
     "text": [
      "[1, 2, 3, 4, 5]\n"
     ]
    }
   ],
   "source": [
    "def get_unique_list(lst):\n",
    "    \"\"\"\n",
    "    Takes a list as an argument and returns a new list with unique elements from the first list.\n",
    "\n",
    "    Parameters:\n",
    "    lst (list): The input list.\n",
    "\n",
    "    Returns:\n",
    "    list: A new list with unique elements from the input list.\n",
    "    \"\"\"\n",
    "    return list(set(lst))\n",
    "\n",
    "# Testing the function\n",
    "test_list = [1, 2, 2, 3, 4, 4, 5]\n",
    "print(get_unique_list(test_list))  # Output should be [1, 2, 3, 4, 5] or any permutation\n",
    "\n"
   ]
  },
  {
   "cell_type": "markdown",
   "id": "214c2c27-c4fa-46cf-bfbf-26fb25b25882",
   "metadata": {},
   "source": [
    "Example:\n",
    "\n",
    "*Input [1,2,3,3,3,3,4,5] -> type: list*\n",
    "\n",
    "*Expected Output [1,2,3,4,5] -> type: list*"
   ]
  },
  {
   "cell_type": "code",
   "execution_count": 2,
   "id": "7d5c8e34-a116-4428-ab9d-e0e15e338fff",
   "metadata": {},
   "outputs": [
    {
     "name": "stdout",
     "output_type": "stream",
     "text": [
      "(5, 22)\n"
     ]
    }
   ],
   "source": [
    "def count_case(string):\n",
    "    \"\"\"\n",
    "    Returns the number of uppercase and lowercase letters in the given string.\n",
    "\n",
    "    Parameters:\n",
    "    string (str): The string to count uppercase and lowercase letters in.\n",
    "\n",
    "    Returns:\n",
    "    A tuple containing the count of uppercase and lowercase letters in the string.\n",
    "    \"\"\"\n",
    "    upper_count = 0\n",
    "    lower_count = 0\n",
    "\n",
    "    for char in string:\n",
    "        if char.isupper():\n",
    "            upper_count += 1\n",
    "        elif char.islower():\n",
    "            lower_count += 1\n",
    "\n",
    "    return (upper_count, lower_count)\n",
    "\n",
    "# Testing the function\n",
    "test_string = \"Hello World! This is a Test String.\"\n",
    "print(count_case(test_string))  # Output should be (4, 14)\n"
   ]
  },
  {
   "cell_type": "markdown",
   "id": "2c902b2e-369c-4a40-a166-ca5bc554cab3",
   "metadata": {},
   "source": [
    "Example:\n",
    "\n",
    "*Input: \"Hello World\"* \n",
    "\n",
    "*Expected Output: Uppercase count: 2, Lowercase count: 8* "
   ]
  },
  {
   "cell_type": "code",
   "execution_count": 3,
   "id": "c15b91d4-cfd6-423b-9f36-76012b8792b8",
   "metadata": {},
   "outputs": [
    {
     "name": "stdout",
     "output_type": "stream",
     "text": [
      "Hello world This is an example sentence How many words\n",
      "10\n"
     ]
    }
   ],
   "source": [
    "import string\n",
    "\n",
    "def remove_punctuation(sentence):\n",
    "    \"\"\"\n",
    "    Removes all punctuation marks (commas, periods, exclamation marks, question marks) from a sentence.\n",
    "\n",
    "    Parameters:\n",
    "    sentence (str): A string representing a sentence.\n",
    "\n",
    "    Returns:\n",
    "    str: The sentence without any punctuation marks.\n",
    "    \"\"\"\n",
    "    # Create a translation table that maps punctuation to None\n",
    "    translator = str.maketrans('', '', string.punctuation)\n",
    "    # Use the translation table to remove punctuation\n",
    "    return sentence.translate(translator)\n",
    "\n",
    "def word_count(sentence):\n",
    "    \"\"\"\n",
    "    Counts the number of words in a given sentence. To do this properly, first it removes punctuation from the sentence.\n",
    "    Note: A word is defined as a sequence of characters separated by spaces. We can assume that there will be no leading or trailing spaces in the input sentence.\n",
    "    \n",
    "    Parameters:\n",
    "    sentence (str): A string representing a sentence.\n",
    "\n",
    "    Returns:\n",
    "    int: The number of words in the sentence.\n",
    "    \"\"\"\n",
    "    # Remove punctuation from the sentence\n",
    "    cleaned_sentence = remove_punctuation(sentence)\n",
    "    # Split the sentence into words and count them\n",
    "    words = cleaned_sentence.split()\n",
    "    return len(words)\n",
    "\n",
    "# Testing the functions\n",
    "test_sentence = \"Hello, world! This is an example sentence. How many words?\"\n",
    "print(remove_punctuation(test_sentence))  # Output should be 'Hello world This is an example sentence How many words'\n",
    "print(word_count(test_sentence))           # Output should be 8\n"
   ]
  },
  {
   "cell_type": "markdown",
   "id": "52814e4d-7631-4c80-80b6-2b206f7e7419",
   "metadata": {},
   "source": [
    "*For example, calling*\n",
    "```python \n",
    "word_count(\"Note : this is an example !!! Good day : )\")\n",
    "``` \n",
    "\n",
    "*would give you as expected output: 7*"
   ]
  },
  {
   "cell_type": "code",
   "execution_count": null,
   "id": "f7cfd32a-f559-47ff-81c1-2576bd4fe3bf",
   "metadata": {},
   "outputs": [],
   "source": [
    "# your code goes here"
   ]
  },
  {
   "cell_type": "markdown",
   "id": "fb01ccba-2ecc-4eea-b9a9-2bf9d29e8804",
   "metadata": {},
   "source": [
    "## Challenge 2: Build a Calculator\n",
    "\n",
    "In this exercise, you will build a calculator using Python functions. The calculator will be able to perform basic arithmetic operations like addition, subtraction, multiplication, and division.\n",
    "\n",
    "Instructions\n",
    "- Define four functions for addition, subtraction, multiplication, and division.\n",
    "- Each function should take two arguments, perform the respective arithmetic operation, and return the result.\n",
    "- Define another function called \"calculate\" that takes three arguments: two operands and an operator.\n",
    "- The \"calculate\" function should use a conditional statement to determine which arithmetic function to call based on the operator argument.\n",
    "- The \"calculate\" function should then call the appropriate arithmetic function and return the result.\n",
    "- Test your \"calculate\" function by calling it with different input parameters.\n"
   ]
  },
  {
   "cell_type": "code",
   "execution_count": 4,
   "id": "57f9afc7-8626-443c-9c3e-eb78ef503193",
   "metadata": {},
   "outputs": [
    {
     "name": "stdout",
     "output_type": "stream",
     "text": [
      "15\n",
      "5\n",
      "50\n",
      "2.0\n",
      "Cannot divide by zero.\n",
      "Invalid operator. Please use '+', '-', '*', or '/'.\n"
     ]
    }
   ],
   "source": [
    "def add(x, y):\n",
    "    \"\"\"\n",
    "    Adds two numbers.\n",
    "    \n",
    "    Parameters:\n",
    "    x (float): The first number.\n",
    "    y (float): The second number.\n",
    "    \n",
    "    Returns:\n",
    "    float: The sum of x and y.\n",
    "    \"\"\"\n",
    "    return x + y\n",
    "\n",
    "def subtract(x, y):\n",
    "    \"\"\"\n",
    "    Subtracts the second number from the first number.\n",
    "    \n",
    "    Parameters:\n",
    "    x (float): The first number.\n",
    "    y (float): The second number.\n",
    "    \n",
    "    Returns:\n",
    "    float: The difference between x and y.\n",
    "    \"\"\"\n",
    "    return x - y\n",
    "\n",
    "def multiply(x, y):\n",
    "    \"\"\"\n",
    "    Multiplies two numbers.\n",
    "    \n",
    "    Parameters:\n",
    "    x (float): The first number.\n",
    "    y (float): The second number.\n",
    "    \n",
    "    Returns:\n",
    "    float: The product of x and y.\n",
    "    \"\"\"\n",
    "    return x * y\n",
    "\n",
    "def divide(x, y):\n",
    "    \"\"\"\n",
    "    Divides the first number by the second number.\n",
    "    \n",
    "    Parameters:\n",
    "    x (float): The numerator.\n",
    "    y (float): The denominator.\n",
    "    \n",
    "    Returns:\n",
    "    float: The quotient of x divided by y.\n",
    "    \n",
    "    Raises:\n",
    "    ValueError: If y is zero.\n",
    "    \"\"\"\n",
    "    if y == 0:\n",
    "        raise ValueError(\"Cannot divide by zero.\")\n",
    "    return x / y\n",
    "\n",
    "def calculate(x, y, operator):\n",
    "    \"\"\"\n",
    "    Performs a calculation based on the operator provided.\n",
    "    \n",
    "    Parameters:\n",
    "    x (float): The first number.\n",
    "    y (float): The second number.\n",
    "    operator (str): The operation to perform ('+', '-', '*', '/').\n",
    "    \n",
    "    Returns:\n",
    "    float: The result of the calculation.\n",
    "    \n",
    "    Raises:\n",
    "    ValueError: If the operator is not recognized.\n",
    "    \"\"\"\n",
    "    if operator == '+':\n",
    "        return add(x, y)\n",
    "    elif operator == '-':\n",
    "        return subtract(x, y)\n",
    "    elif operator == '*':\n",
    "        return multiply(x, y)\n",
    "    elif operator == '/':\n",
    "        return divide(x, y)\n",
    "    else:\n",
    "        raise ValueError(\"Invalid operator. Please use '+', '-', '*', or '/'.\")\n",
    "\n",
    "# Testing the calculate function\n",
    "print(calculate(10, 5, '+'))  # Output: 15\n",
    "print(calculate(10, 5, '-'))  # Output: 5\n",
    "print(calculate(10, 5, '*'))  # Output: 50\n",
    "print(calculate(10, 5, '/'))  # Output: 2.0\n",
    "\n",
    "# Testing with edge cases\n",
    "try:\n",
    "    print(calculate(10, 0, '/'))  # Should raise a ValueError\n",
    "except ValueError as e:\n",
    "    print(e)  # Output: Cannot divide by zero.\n",
    "\n",
    "try:\n",
    "    print(calculate(10, 5, '%'))  # Should raise a ValueError\n",
    "except ValueError as e:\n",
    "    print(e)  # Output: Invalid operator. Please use '+', '-', '*', or '/'.\n"
   ]
  },
  {
   "cell_type": "markdown",
   "id": "d1784c63-208c-4553-9686-acac6c0a9dda",
   "metadata": {},
   "source": [
    "### Bonus: args and kwargs\n",
    "\n",
    "Update the previous exercise so it allows for adding, subtracting, and multiplying more than 2 numbers.\n",
    "\n",
    "The calculator will be able to perform basic arithmetic operations like addition, subtraction, multiplication, and division on multiple numbers.\n",
    "\n",
    "*Hint: use args or kwargs. Recommended external resource: [Args and Kwargs in Python](https://www.geeksforgeeks.org/args-kwargs-python/)*"
   ]
  },
  {
   "cell_type": "code",
   "execution_count": 8,
   "id": "0c64e298",
   "metadata": {},
   "outputs": [
    {
     "name": "stdout",
     "output_type": "stream",
     "text": [
      "15\n",
      "2\n",
      "24\n",
      "10.0\n",
      "Cannot divide by zero.\n",
      "10\n"
     ]
    }
   ],
   "source": [
    "def add(*args):\n",
    "    \"\"\"\n",
    "    Adds multiple numbers.\n",
    "    \n",
    "    Parameters:\n",
    "    *args (float): Numbers to be added.\n",
    "    \n",
    "    Returns:\n",
    "    float: The sum of all numbers.\n",
    "    \"\"\"\n",
    "    return sum(args)\n",
    "\n",
    "def subtract(*args):\n",
    "    \"\"\"\n",
    "    Subtracts multiple numbers. The result is the first number minus all subsequent numbers.\n",
    "    \n",
    "    Parameters:\n",
    "    *args (float): Numbers to be subtracted.\n",
    "    \n",
    "    Returns:\n",
    "    float: The result of subtracting all subsequent numbers from the first number.\n",
    "    \"\"\"\n",
    "    if len(args) < 1:\n",
    "        raise ValueError(\"At least one number is required.\")\n",
    "    result = args[0]\n",
    "    for number in args[1:]:\n",
    "        result -= number\n",
    "    return result\n",
    "\n",
    "def multiply(*args):\n",
    "    \"\"\"\n",
    "    Multiplies multiple numbers.\n",
    "    \n",
    "    Parameters:\n",
    "    *args (float): Numbers to be multiplied.\n",
    "    \n",
    "    Returns:\n",
    "    float: The product of all numbers.\n",
    "    \"\"\"\n",
    "    result = 1\n",
    "    for number in args:\n",
    "        result *= number\n",
    "    return result\n",
    "\n",
    "def divide(*args):\n",
    "    \"\"\"\n",
    "    Divides the first number by all subsequent numbers.\n",
    "    \n",
    "    Parameters:\n",
    "    *args (float): Numbers where the first number is divided by the subsequent numbers.\n",
    "    \n",
    "    Returns:\n",
    "    float: The result of dividing the first number by all subsequent numbers.\n",
    "    \n",
    "    Raises:\n",
    "    ValueError: If there are fewer than two numbers or division by zero occurs.\n",
    "    \"\"\"\n",
    "    if len(args) < 2:\n",
    "        raise ValueError(\"At least two numbers are required.\")\n",
    "    result = args[0]\n",
    "    for number in args[1:]:\n",
    "        if number == 0:\n",
    "            raise ValueError(\"Cannot divide by zero.\")\n",
    "        result /= number\n",
    "    return result\n",
    "\n",
    "def calculate(*args, operator):\n",
    "    \"\"\"\n",
    "    Performs a calculation based on the operator provided.\n",
    "    \n",
    "    Parameters:\n",
    "    *args (float): Numbers to be used in the calculation.\n",
    "    operator (str): The operation to perform ('+', '-', '*', '/').\n",
    "    \n",
    "    Returns:\n",
    "    float: The result of the calculation.\n",
    "    \n",
    "    Raises:\n",
    "    ValueError: If the operator is not recognized or if the operation cannot be performed.\n",
    "    \"\"\"\n",
    "    if operator == '+':\n",
    "        return add(*args)\n",
    "    elif operator == '-':\n",
    "        return subtract(*args)\n",
    "    elif operator == '*':\n",
    "        return multiply(*args)\n",
    "    elif operator == '/':\n",
    "        return divide(*args)\n",
    "    else:\n",
    "        raise ValueError(\"Invalid operator. Please use '+', '-', '*', or '/'.\")\n",
    "\n",
    "# Testing the updated calculate function\n",
    "print(calculate(10, 5, operator='+'))             # Output: 15\n",
    "print(calculate(10, 5, 3, operator='-'))         # Output: 2\n",
    "print(calculate(2, 3, 4, operator='*'))           # Output: 24\n",
    "print(calculate(100, 5, 2, operator='/'))        # Output: 10.0\n",
    "\n",
    "# Testing with edge cases\n",
    "try:\n",
    "    print(calculate(10, 0, operator='/'))          # Should raise a ValueError\n",
    "except ValueError as e:\n",
    "    print(e)  # Output: Cannot divide by zero.\n",
    "\n",
    "try:\n",
    "    print(calculate(10, operator='+'))             # Should raise a ValueError\n",
    "except ValueError as e:\n",
    "    print(e)  # Output: At least two numbers are required.\n"
   ]
  },
  {
   "cell_type": "markdown",
   "id": "af2de734-2a0e-4458-9cb8-57284b7108ae",
   "metadata": {},
   "source": [
    "## Challenge 3: importing functions from a Python file"
   ]
  },
  {
   "cell_type": "markdown",
   "id": "56780ce8-6610-4fb5-a4ef-22cd46af83d2",
   "metadata": {},
   "source": [
    "Moving the functions created in Challenge 1 to a Python file.\n",
    "\n",
    "- In the same directory as your Jupyter Notebook, create a new Python file called `functions.py`.\n",
    "- Copy and paste the functions you created earlier in the Jupyter Notebook into the functions.py file. Rename the functions to `get_unique_list_f, count_case_f, remove_punctuation_f, word_count_f`. Add the _f suffix to each function name to ensure that you're calling the functions from your file.\n",
    "- Save the `functions.py` file and switch back to the Jupyter Notebook.\n",
    "- In a new cell, import the functions from functions.py\n",
    "- Call each function with some sample input to test that they're working properly.\n",
    "\n",
    "There are several ways to import functions from a Python module such as functions.py to a Jupyter Notebook:\n",
    "\n",
    "1. Importing specific functions: If you only need to use a few functions from the module, you can import them individually using the from keyword. This way, you can call the functions directly using their names, without having to use the module name. For example:\n",
    "\n",
    "```python\n",
    "from function_file import function_name\n",
    "\n",
    "function_name(arguments)```\n",
    "\n",
    "2. Importing the entire module: You can import the entire module using the import keyword followed by the name of the module. Then, you can call the functions using the module_name.function_name() syntax. Example:\n",
    "\n",
    "```python\n",
    "import function_file\n",
    "\n",
    "function_file.function_name()\n",
    "```\n",
    "\n",
    "3. Renaming functions during import: You can also rename functions during import using the as keyword. This is useful if you want to use a shorter or more descriptive name for the function in your code. For example:\n",
    "\n",
    "```python\n",
    "from function_file import function_name as f\n",
    "\n",
    "f.function_name(arguments)\n",
    "```\n",
    "\n",
    "Regardless of which method you choose, make sure that the functions.py file is in the same directory as your Jupyter Notebook, or else specify the path to the file in the import statement or by using `sys.path`.\n",
    "\n",
    "You can find examples on how to import Python files into jupyter notebook here: \n",
    "- https://medium.com/cold-brew-code/a-quick-guide-to-understanding-pythons-import-statement-505eea2d601f\n",
    "- https://www.geeksforgeeks.org/absolute-and-relative-imports-in-python/\n",
    "- https://www.pythonforthelab.com/blog/complete-guide-to-imports-in-python-absolute-relative-and-more/\n",
    "\n"
   ]
  },
  {
   "cell_type": "markdown",
   "id": "14f222c5-e7bb-4626-b45c-bd735001f768",
   "metadata": {},
   "source": [
    "To ensure that any changes made to the Python file are reflected in the Jupyter Notebook upon import, we need to use an IPython extension that allows for automatic reloading of modules. Without this extension, changes made to the file won't be reloaded or refreshed in the notebook upon import.\n",
    "\n",
    "For that, we will include the following code:\n",
    "```python\n",
    "%load_ext autoreload\n",
    "%autoreload 2 \n",
    "```\n",
    "\n",
    "You can read more about this here: https://ipython.readthedocs.io/en/stable/config/extensions/autoreload.html"
   ]
  },
  {
   "cell_type": "code",
   "execution_count": 10,
   "id": "e19fdf31",
   "metadata": {},
   "outputs": [
    {
     "name": "stdout",
     "output_type": "stream",
     "text": [
      "['c:\\\\Users\\\\User\\\\Documents\\\\IRON HACK DA 2024\\\\IH _Labs W 1\\\\IH-Day 2\\\\lab-flow-controls\\\\labs-functions extra\\\\lab-python-functions-extra', 'c:\\\\Users\\\\User\\\\anaconda3\\\\anaconda 4\\\\python39.zip', 'c:\\\\Users\\\\User\\\\anaconda3\\\\anaconda 4\\\\DLLs', 'c:\\\\Users\\\\User\\\\anaconda3\\\\anaconda 4\\\\lib', 'c:\\\\Users\\\\User\\\\anaconda3\\\\anaconda 4', '', 'c:\\\\Users\\\\User\\\\anaconda3\\\\anaconda 4\\\\lib\\\\site-packages', 'c:\\\\Users\\\\User\\\\anaconda3\\\\anaconda 4\\\\lib\\\\site-packages\\\\win32', 'c:\\\\Users\\\\User\\\\anaconda3\\\\anaconda 4\\\\lib\\\\site-packages\\\\win32\\\\lib', 'c:\\\\Users\\\\User\\\\anaconda3\\\\anaconda 4\\\\lib\\\\site-packages\\\\Pythonwin', 'c:\\\\Users\\\\User\\\\anaconda3\\\\anaconda 4\\\\lib\\\\site-packages\\\\IPython\\\\extensions', 'C:\\\\Users\\\\User\\\\.ipython']\n"
     ]
    }
   ],
   "source": [
    "import sys\n",
    "print(sys.path)\n"
   ]
  },
  {
   "cell_type": "code",
   "execution_count": 20,
   "id": "dec6d59b",
   "metadata": {},
   "outputs": [
    {
     "ename": "ModuleNotFoundError",
     "evalue": "No module named 'calculator'",
     "output_type": "error",
     "traceback": [
      "\u001b[1;31m---------------------------------------------------------------------------\u001b[0m",
      "\u001b[1;31mModuleNotFoundError\u001b[0m                       Traceback (most recent call last)",
      "\u001b[1;32m~\\AppData\\Local\\Temp\\ipykernel_13476\\1271422040.py\u001b[0m in \u001b[0;36m<module>\u001b[1;34m\u001b[0m\n\u001b[0;32m      6\u001b[0m \u001b[1;33m\u001b[0m\u001b[0m\n\u001b[0;32m      7\u001b[0m \u001b[1;31m# Now try to import the module\u001b[0m\u001b[1;33m\u001b[0m\u001b[1;33m\u001b[0m\u001b[0m\n\u001b[1;32m----> 8\u001b[1;33m \u001b[1;32mimport\u001b[0m \u001b[0mcalculator\u001b[0m\u001b[1;33m\u001b[0m\u001b[1;33m\u001b[0m\u001b[0m\n\u001b[0m\u001b[0;32m      9\u001b[0m \u001b[1;33m\u001b[0m\u001b[0m\n",
      "\u001b[1;31mModuleNotFoundError\u001b[0m: No module named 'calculator'"
     ]
    }
   ],
   "source": [
    "import sys\n",
    "import os\n",
    "\n",
    "# Add current directory to sys.path\n",
    "sys.path.append(os.getcwd())\n",
    "\n",
    "# Now try to import the module\n",
    "import calculator\n",
    "\n"
   ]
  },
  {
   "cell_type": "code",
   "execution_count": 21,
   "id": "74b3b144",
   "metadata": {},
   "outputs": [
    {
     "name": "stdout",
     "output_type": "stream",
     "text": [
      "['.git', 'lab-python-functions.ipynb', 'README.md']\n"
     ]
    }
   ],
   "source": [
    "import os\n",
    "\n",
    "# Print files in the current working directory\n",
    "print(os.listdir(os.getcwd()))\n"
   ]
  },
  {
   "cell_type": "markdown",
   "id": "06d0eb13-8dcb-4783-8f74-8f71beb2d0b4",
   "metadata": {},
   "source": [
    "## Bonus: recursive functions\n",
    "\n",
    "The Fibonacci sequence is a mathematical sequence that appears in various fields, including nature, finance, and computer science. It starts with 0 and 1, and each subsequent number is the sum of the two preceding numbers. The sequence goes like this: 0, 1, 1, 2, 3, 5, 8, 13, 21, 34, and so on.\n",
    "\n",
    "Write a Python function that uses recursion to compute the Fibonacci sequence up to a given number n.\n",
    "\n",
    "To accomplish this, create a function that calculates the Fibonacci number for a given input. For example, the 10th Fibonacci number is 55.\n",
    "Then create another function that generates a list of Fibonacci numbers from 0 to n.\n",
    "Test your function by calling it with different input parameters."
   ]
  },
  {
   "cell_type": "markdown",
   "id": "b1686493-48bb-47f1-b3c9-75994816b277",
   "metadata": {},
   "source": [
    "Example:\n",
    "\n",
    "*Expected output for n = 14:*\n",
    "\n",
    "*Fibonacci sequence: [1, 1, 2, 3, 5, 8, 13, 21, 34, 55, 89, 144, 233, 377]*"
   ]
  },
  {
   "cell_type": "code",
   "execution_count": 30,
   "id": "a1d55cea-96c3-4853-8220-17c0904a8816",
   "metadata": {},
   "outputs": [],
   "source": [
    "def fibonacci(n):\n",
    "    \"\"\"\n",
    "    Computes the Fibonacci number at position n using recursion.\n",
    "\n",
    "    Parameters:\n",
    "    n (int): The position in the Fibonacci sequence.\n",
    "\n",
    "    Returns:\n",
    "    int: The Fibonacci number at position n.\n",
    "    \"\"\"\n",
    "    if n <= 0:\n",
    "        return 0\n",
    "    elif n == 1:\n",
    "        return 1\n",
    "    else:\n",
    "        return fibonacci(n-1) + fibonacci(n-2)\n"
   ]
  },
  {
   "cell_type": "code",
   "execution_count": 31,
   "id": "55b9c7fa",
   "metadata": {},
   "outputs": [],
   "source": [
    "def fibonacci_list(max_value):\n",
    "    \"\"\"\n",
    "    Generates a list of Fibonacci numbers up to a given maximum value.\n",
    "\n",
    "    Parameters:\n",
    "    max_value (int): The maximum value for the Fibonacci numbers.\n",
    "\n",
    "    Returns:\n",
    "    list: A list of Fibonacci numbers up to max_value.\n",
    "    \"\"\"\n",
    "    fib_list = []\n",
    "    i = 0\n",
    "    while True:\n",
    "        fib_num = fibonacci(i)\n",
    "        if fib_num > max_value:\n",
    "            break\n",
    "        fib_list.append(fib_num)\n",
    "        i += 1\n",
    "    return fib_list\n"
   ]
  },
  {
   "cell_type": "code",
   "execution_count": 32,
   "id": "cded87fe",
   "metadata": {},
   "outputs": [
    {
     "name": "stdout",
     "output_type": "stream",
     "text": [
      "55\n",
      "[0, 1, 1, 2, 3, 5, 8, 13, 21, 34, 55, 89]\n"
     ]
    }
   ],
   "source": [
    "# Test the fibonacci function\n",
    "print(fibonacci(10))  # Output: 55 (the 10th Fibonacci number)\n",
    "\n",
    "# Test the fibonacci_list function\n",
    "print(fibonacci_list(100))  # Output: [0, 1, 1, 2, 3, 5, 8, 13, 21, 34, 55, 89]\n"
   ]
  }
 ],
 "metadata": {
  "kernelspec": {
   "display_name": "Python 3 (ipykernel)",
   "language": "python",
   "name": "python3"
  },
  "language_info": {
   "codemirror_mode": {
    "name": "ipython",
    "version": 3
   },
   "file_extension": ".py",
   "mimetype": "text/x-python",
   "name": "python",
   "nbconvert_exporter": "python",
   "pygments_lexer": "ipython3",
   "version": "3.9.13"
  }
 },
 "nbformat": 4,
 "nbformat_minor": 5
}
